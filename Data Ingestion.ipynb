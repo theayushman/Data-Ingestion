{
 "cells": [
  {
   "cell_type": "code",
   "execution_count": 2,
   "id": "47929e2c",
   "metadata": {},
   "outputs": [
    {
     "name": "stdout",
     "output_type": "stream",
     "text": [
      "Error during data ingestion: connection to server at \"localhost\" (::1), port 5432 failed: FATAL:  password authentication failed for user \"postgres\"\n",
      "\n"
     ]
    },
    {
     "ename": "UnboundLocalError",
     "evalue": "cannot access local variable 'conn' where it is not associated with a value",
     "output_type": "error",
     "traceback": [
      "\u001b[1;31m---------------------------------------------------------------------------\u001b[0m",
      "\u001b[1;31mUnboundLocalError\u001b[0m                         Traceback (most recent call last)",
      "Cell \u001b[1;32mIn[2], line 56\u001b[0m\n\u001b[0;32m     53\u001b[0m host \u001b[38;5;241m=\u001b[39m \u001b[38;5;124m\"\u001b[39m\u001b[38;5;124mlocalhost\u001b[39m\u001b[38;5;124m\"\u001b[39m  \n\u001b[0;32m     54\u001b[0m port \u001b[38;5;241m=\u001b[39m \u001b[38;5;124m\"\u001b[39m\u001b[38;5;124m5432\u001b[39m\u001b[38;5;124m\"\u001b[39m       \n\u001b[1;32m---> 56\u001b[0m ingest_data_from_excel_to_postgres(excel_file, sheet_name, table_name, dbname, user, password, host, port)\n",
      "Cell \u001b[1;32mIn[2], line 43\u001b[0m, in \u001b[0;36mingest_data_from_excel_to_postgres\u001b[1;34m(excel_file, sheet_name, table_name, dbname, user, password, host, port)\u001b[0m\n\u001b[0;32m     41\u001b[0m     \u001b[38;5;28mprint\u001b[39m(\u001b[38;5;124mf\u001b[39m\u001b[38;5;124m\"\u001b[39m\u001b[38;5;124mError during data ingestion: \u001b[39m\u001b[38;5;132;01m{\u001b[39;00me\u001b[38;5;132;01m}\u001b[39;00m\u001b[38;5;124m\"\u001b[39m)\n\u001b[0;32m     42\u001b[0m \u001b[38;5;28;01mfinally\u001b[39;00m:\n\u001b[1;32m---> 43\u001b[0m     conn\u001b[38;5;241m.\u001b[39mclose()\n",
      "\u001b[1;31mUnboundLocalError\u001b[0m: cannot access local variable 'conn' where it is not associated with a value"
     ]
    }
   ],
   "source": [
    "import pandas as pd\n",
    "import psycopg2\n",
    "from psycopg2 import sql\n",
    "from sqlalchemy import create_engine\n",
    "\n",
    "# Function to establish connection to PostgreSQL\n",
    "def create_connection(dbname, user, password, host, port):\n",
    "    conn = psycopg2.connect(dbname=dbname, user=user, password=password, host=host, port=port)\n",
    "    return conn\n",
    "\n",
    "# Function to execute SQL queries\n",
    "def execute_query(connection, query):\n",
    "    cursor = connection.cursor()\n",
    "    try:\n",
    "        cursor.execute(query)\n",
    "        connection.commit()\n",
    "        print(\"Query executed successfully\")\n",
    "    except psycopg2.DatabaseError as e:\n",
    "        print(f\"Error: {e}\")\n",
    "        connection.rollback()\n",
    "    finally:\n",
    "        cursor.close()\n",
    "\n",
    "# Function to ingest data from Excel to PostgreSQL\n",
    "def ingest_data_from_excel_to_postgres(excel_file, sheet_name, table_name, dbname, user, password, host, port):\n",
    "    try:\n",
    "        # Read Excel data into a DataFrame\n",
    "        df = pd.read_excel(excel_file, sheet_name=sheet_name)\n",
    "        \n",
    "        # Establish connection to PostgreSQL\n",
    "        conn = create_connection(dbname, user, password, host, port)\n",
    "        \n",
    "        # Create a SQLAlchemy engine\n",
    "        engine = create_engine(f\"postgresql://{user}:{password}@{host}:{port}/{dbname}\")\n",
    "        \n",
    "        # Insert DataFrame into PostgreSQL table\n",
    "        df.to_sql(table_name, engine, if_exists='replace', index=False)\n",
    "        \n",
    "        print(\"Data ingestion successful\")\n",
    "    except Exception as e:\n",
    "        print(f\"Error during data ingestion: {e}\")\n",
    "    finally:\n",
    "        conn.close()\n",
    "\n",
    "# Example usage\n",
    "if __name__ == \"__main__\":\n",
    "    excel_file = \"Payment_testing.xlsx\"\n",
    "    sheet_name = \"Mappings\"\n",
    "    table_name = \"payment_mapping\"\n",
    "    dbname = \"postgres\"\n",
    "    user = \"postgres\"\n",
    "    password = \"secretpassword\"\n",
    "    host = \"localhost\"  \n",
    "    port = \"5432\"       \n",
    "\n",
    "    ingest_data_from_excel_to_postgres(excel_file, sheet_name, table_name, dbname, user, password, host, port)\n"
   ]
  },
  {
   "cell_type": "code",
   "execution_count": null,
   "id": "5b8156ed",
   "metadata": {},
   "outputs": [],
   "source": []
  }
 ],
 "metadata": {
  "kernelspec": {
   "display_name": "Python 3 (ipykernel)",
   "language": "python",
   "name": "python3"
  },
  "language_info": {
   "codemirror_mode": {
    "name": "ipython",
    "version": 3
   },
   "file_extension": ".py",
   "mimetype": "text/x-python",
   "name": "python",
   "nbconvert_exporter": "python",
   "pygments_lexer": "ipython3",
   "version": "3.11.5"
  }
 },
 "nbformat": 4,
 "nbformat_minor": 5
}
